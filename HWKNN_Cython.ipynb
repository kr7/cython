{
  "nbformat": 4,
  "nbformat_minor": 0,
  "metadata": {
    "colab": {
      "name": "HWKNN-Cython.ipynb",
      "provenance": [],
      "collapsed_sections": [],
      "authorship_tag": "ABX9TyOTnMwtLoWlxZitgTI553xt",
      "include_colab_link": true
    },
    "kernelspec": {
      "name": "python3",
      "display_name": "Python 3"
    },
    "language_info": {
      "name": "python"
    }
  },
  "cells": [
    {
      "cell_type": "markdown",
      "metadata": {
        "id": "view-in-github",
        "colab_type": "text"
      },
      "source": [
        "<a href=\"https://colab.research.google.com/github/kr7/cython/blob/main/HWKNN_Cython.ipynb\" target=\"_parent\"><img src=\"https://colab.research.google.com/assets/colab-badge.svg\" alt=\"Open In Colab\"/></a>"
      ]
    },
    {
      "cell_type": "code",
      "execution_count": null,
      "metadata": {
        "id": "6abxaUHwH2yk"
      },
      "outputs": [],
      "source": [
        "import math\n",
        "import numpy as np\n",
        "from time import time\n",
        "from sklearn.metrics.pairwise import cosine_distances"
      ]
    },
    {
      "cell_type": "markdown",
      "source": [
        "**Load the data**"
      ],
      "metadata": {
        "id": "8w8h3KhaIsXU"
      }
    },
    {
      "cell_type": "code",
      "source": [
        "data = np.loadtxt('https://archive.ics.uci.edu/ml/machine-learning-databases/spambase/spambase.data', delimiter=',')"
      ],
      "metadata": {
        "id": "m5pa5RNQSKtW"
      },
      "execution_count": null,
      "outputs": []
    },
    {
      "cell_type": "code",
      "source": [
        "# The last 100 instances will be considered as test data\n",
        "# Indices need to be updated in case if another dataset is used\n",
        "\n",
        "np.random.seed(42)\n",
        "np.random.shuffle(data)\n",
        "train_data = data[:4500,0:57]\n",
        "train_labels = np.array(data[:4500,57], dtype=int)\n",
        "test_data = data[4501:,0:57]\n",
        "test_labels = np.array(data[4501:,57], dtype=int)"
      ],
      "metadata": {
        "id": "v5_dwp9tIEvV"
      },
      "execution_count": null,
      "outputs": []
    },
    {
      "cell_type": "markdown",
      "source": [
        "**Training phase of hubness-weighted k-NN**\n",
        "\n",
        "* Calculation of pairwise distances on the training data\n",
        "* Hubness calculation in Python and Cython (so that both implementations may be compared)\n",
        "* Calculation of hubness-aware weights"
      ],
      "metadata": {
        "id": "ymKB7S_tI3yX"
      }
    },
    {
      "cell_type": "code",
      "source": [
        "d_mat = cosine_distances(train_data)"
      ],
      "metadata": {
        "id": "RsZ_qHz8K4uq"
      },
      "execution_count": null,
      "outputs": []
    },
    {
      "cell_type": "code",
      "source": [
        "def calculate_hubness_python(distance_matrix, labels, k = 10):\n",
        "  t0 = time()\n",
        "\n",
        "  num_instances = len(labels)\n",
        "\n",
        "  gn = np.zeros( (num_instances) )\n",
        "  bn = np.zeros( (num_instances) )\n",
        "\n",
        "  for i in range( num_instances ):\n",
        "    k_nn_idx = [-1]*k\n",
        "    k_nn_dist = [np.inf]*k\n",
        "    k_nn_labels = [-1]*k\n",
        "\n",
        "    d_max = np.inf\n",
        "    for j in range( num_instances ):    \n",
        "      if i == j:\n",
        "        continue\n",
        "      \n",
        "      d = distance_matrix[i,j]\n",
        "\n",
        "      if d < d_max:\n",
        "        pos = k_nn_dist.index(d_max)\n",
        "\n",
        "        k_nn_dist[pos] = d\n",
        "        k_nn_idx[pos] = j\n",
        "        k_nn_labels[pos] = labels[j]\n",
        "\n",
        "        d_max = max(k_nn_dist)\n",
        "\n",
        "    x_label = labels[i]\n",
        "\n",
        "    for i in range(k):\n",
        "      if x_label == k_nn_labels[i]:\n",
        "        gn[k_nn_idx[i]] = gn[k_nn_idx[i]] + 1\n",
        "      else:\n",
        "        bn[k_nn_idx[i]] = bn[k_nn_idx[i]] + 1\n",
        "      \n",
        "  return gn, bn, time()-t0"
      ],
      "metadata": {
        "id": "ugTTR46YIiq8"
      },
      "execution_count": null,
      "outputs": []
    },
    {
      "cell_type": "code",
      "source": [
        "%load_ext cython"
      ],
      "metadata": {
        "id": "s63tcCjITq_7"
      },
      "execution_count": null,
      "outputs": []
    },
    {
      "cell_type": "code",
      "source": [
        "%%cython\n",
        "\n",
        "import numpy as np\n",
        "cimport numpy as np\n",
        "\n",
        "from time import time\n",
        "\n",
        "def calculate_hubness_cython(np.ndarray[np.float_t, ndim=2] distance_matrix, \n",
        "                             np.ndarray[np.int_t, ndim=1] labels, \n",
        "                             int k = 10):\n",
        "  t0 = time()\n",
        " \n",
        "  cdef int i\n",
        "  cdef int j\n",
        "  cdef int num_instances\n",
        "  cdef int pos\n",
        "  cdef int x_label\n",
        "\n",
        "  cdef double d\n",
        "  cdef double d_max\n",
        "\n",
        "  cdef np.ndarray[np.int_t, ndim=1] gn\n",
        "  cdef np.ndarray[np.int_t, ndim=1] bn\n",
        "  cdef np.ndarray[np.int_t, ndim=1] k_nn_idx\n",
        "  cdef np.ndarray[np.int_t, ndim=1] k_nn_labels\n",
        "\n",
        "  num_instances = len(labels)\n",
        "\n",
        "  gn = np.zeros( (num_instances), dtype=int )\n",
        "  bn = np.zeros( (num_instances), dtype=int )\n",
        "\n",
        "  for i in range( num_instances ):\n",
        "\n",
        "    k_nn_idx =  np.zeros( (k), dtype=int )\n",
        "    k_nn_dist = [np.inf]*k\n",
        "    k_nn_labels = np.zeros( (k), dtype=int )\n",
        "\n",
        "    d_max = np.inf\n",
        "    for j in range( num_instances ):    \n",
        "      if i == j:\n",
        "        continue\n",
        "      \n",
        "      d = distance_matrix[i,j]\n",
        "\n",
        "      if d < d_max:\n",
        "        pos = k_nn_dist.index(d_max)\n",
        "\n",
        "        k_nn_dist[pos] = d\n",
        "        k_nn_idx[pos] = j\n",
        "        k_nn_labels[pos] = labels[j]\n",
        "\n",
        "        d_max = max(k_nn_dist)\n",
        "\n",
        "    x_label = labels[i]\n",
        "\n",
        "    for i in range(k):\n",
        "      if x_label == k_nn_labels[i]:\n",
        "        gn[k_nn_idx[i]] = gn[k_nn_idx[i]] + 1\n",
        "      else:\n",
        "        bn[k_nn_idx[i]] = bn[k_nn_idx[i]] + 1\n",
        "      \n",
        "  return gn, bn, time()-t0"
      ],
      "metadata": {
        "id": "NDPxP09kTrxr"
      },
      "execution_count": null,
      "outputs": []
    },
    {
      "cell_type": "code",
      "source": [
        "gn, bn, runtime = calculate_hubness_python(d_mat, train_labels)"
      ],
      "metadata": {
        "id": "LVPI-GS7K61c"
      },
      "execution_count": null,
      "outputs": []
    },
    {
      "cell_type": "code",
      "source": [
        "gn_c, bn_c, runtime_c = calculate_hubness_cython(d_mat, train_labels)"
      ],
      "metadata": {
        "id": "U2o_qqWjK8Q6"
      },
      "execution_count": null,
      "outputs": []
    },
    {
      "cell_type": "code",
      "source": [
        "print(\"Runtime of hubness calculations:\")\n",
        "print(f\"  Python: {runtime:5.2f} s\" )\n",
        "print(f\"  Cython: {runtime_c:5.2f} s\" )"
      ],
      "metadata": {
        "id": "JYxuLTmZK-8i"
      },
      "execution_count": null,
      "outputs": []
    },
    {
      "cell_type": "markdown",
      "source": [
        "To be on the safe side, we check that both implementations return the same results."
      ],
      "metadata": {
        "id": "ZpqVC1jaJdik"
      }
    },
    {
      "cell_type": "code",
      "source": [
        "assert np.sum(gn!=gn_c) == 0"
      ],
      "metadata": {
        "id": "-rUCZqy-W-MF"
      },
      "execution_count": null,
      "outputs": []
    },
    {
      "cell_type": "code",
      "source": [
        "assert np.sum(bn!=bn_c) == 0"
      ],
      "metadata": {
        "id": "hV8z5W1Uj-lu"
      },
      "execution_count": null,
      "outputs": []
    },
    {
      "cell_type": "markdown",
      "source": [
        "\n",
        "\n",
        "Computation of hubness-aware weights "
      ],
      "metadata": {
        "id": "vPPeh6CHJpwY"
      }
    },
    {
      "cell_type": "code",
      "source": [
        "mu = np.mean(bn)\n",
        "sigma = np.std(bn)\n",
        "hb = (bn - mu)/sigma\n",
        "w = np.array([ math.exp(-h) for h in hb ])"
      ],
      "metadata": {
        "id": "SP0H9FicoM7s"
      },
      "execution_count": null,
      "outputs": []
    },
    {
      "cell_type": "markdown",
      "source": [
        "**Prediction for Test Instances**"
      ],
      "metadata": {
        "id": "JtLdmZttJ0OG"
      }
    },
    {
      "cell_type": "code",
      "source": [
        "d_mat = cosine_distances(test_data, train_data)"
      ],
      "metadata": {
        "id": "bIzaRBkk7hZ3"
      },
      "execution_count": null,
      "outputs": []
    },
    {
      "cell_type": "code",
      "source": [
        "def kNN(distance_matrix, train_labels, k, weights):\n",
        "  \"\"\"\n",
        "      distance_matrix is expected to have n rows and m columns, \n",
        "         where n is the number of test instances and \n",
        "               m is the number of training instances. \n",
        "         Each row contains the distances of a test instance from\n",
        "         all the training instances. \n",
        "\n",
        "      This implementation assumes that the classes are numbered \n",
        "      from 0 on as follows: \n",
        "        0, 1, ..., c-1,\n",
        "      where c is the number of classes.\n",
        "  \"\"\"\n",
        "  number_of_classes = max(train_labels)+1\n",
        "\n",
        "  predictions = []\n",
        "  for i in range(len(distance_matrix)):\n",
        "    thr = np.sort(d_mat[i])[k]\n",
        "    neighbor_mask = d_mat[i] <= thr\n",
        "    labels_of_the_neighbors = train_labels[neighbor_mask]\n",
        "    weights_of_the_neighbors = weights[neighbor_mask]\n",
        "\n",
        "    class_votes = np.zeros( (number_of_classes) )\n",
        "    for j in range(len(labels_of_the_neighbors)):\n",
        "      class_votes[ labels_of_the_neighbors[j] ] += weights_of_the_neighbors[j]\n",
        "      \n",
        "    predictions.append( np.argmax(class_votes) )\n",
        "  \n",
        "  return np.array(predictions)"
      ],
      "metadata": {
        "id": "UqQTa3Vn6C5u"
      },
      "execution_count": null,
      "outputs": []
    },
    {
      "cell_type": "code",
      "source": [
        "pred = kNN(d_mat, train_labels, 10, w)"
      ],
      "metadata": {
        "id": "ghbBx4Gi6Kaj"
      },
      "execution_count": null,
      "outputs": []
    },
    {
      "cell_type": "markdown",
      "source": [
        "Number of correctly classified instanes (out of the 100 test instances)"
      ],
      "metadata": {
        "id": "2aCUTDtyKcSb"
      }
    },
    {
      "cell_type": "code",
      "source": [
        "np.sum(pred==test_labels)"
      ],
      "metadata": {
        "id": "R1VUilRdDaPH"
      },
      "execution_count": null,
      "outputs": []
    }
  ]
}